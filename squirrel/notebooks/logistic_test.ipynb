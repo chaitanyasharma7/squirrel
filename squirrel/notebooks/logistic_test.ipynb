{
 "cells": [
  {
   "cell_type": "code",
   "execution_count": 1,
   "id": "9b5039d7",
   "metadata": {},
   "outputs": [],
   "source": [
    "import numpy as np\n",
    "import sklearn"
   ]
  },
  {
   "cell_type": "code",
   "execution_count": 3,
   "id": "d20532ce",
   "metadata": {},
   "outputs": [
    {
     "name": "stdout",
     "output_type": "stream",
     "text": [
      "['D:\\\\tech_projects\\\\squirrel\\\\squirrel\\\\notebooks', 'C:\\\\Users\\\\91981\\\\anaconda3\\\\envs\\\\nn\\\\python310.zip', 'C:\\\\Users\\\\91981\\\\anaconda3\\\\envs\\\\nn\\\\DLLs', 'C:\\\\Users\\\\91981\\\\anaconda3\\\\envs\\\\nn\\\\lib', 'C:\\\\Users\\\\91981\\\\anaconda3\\\\envs\\\\nn', '', 'C:\\\\Users\\\\91981\\\\anaconda3\\\\envs\\\\nn\\\\lib\\\\site-packages', 'C:\\\\Users\\\\91981\\\\anaconda3\\\\envs\\\\nn\\\\lib\\\\site-packages\\\\win32', 'C:\\\\Users\\\\91981\\\\anaconda3\\\\envs\\\\nn\\\\lib\\\\site-packages\\\\win32\\\\lib', 'C:\\\\Users\\\\91981\\\\anaconda3\\\\envs\\\\nn\\\\lib\\\\site-packages\\\\Pythonwin']\n"
     ]
    }
   ],
   "source": [
    "import sys\n",
    "print(sys.path)"
   ]
  },
  {
   "cell_type": "code",
   "execution_count": 16,
   "id": "de2297c2",
   "metadata": {},
   "outputs": [],
   "source": [
    "sys.path.append('D:\\\\tech_projects\\\\squirrel\\\\')"
   ]
  },
  {
   "cell_type": "code",
   "execution_count": 17,
   "id": "6250efe5",
   "metadata": {},
   "outputs": [
    {
     "name": "stdout",
     "output_type": "stream",
     "text": [
      "['D:\\\\tech_projects\\\\squirrel\\\\squirrel\\\\notebooks', 'C:\\\\Users\\\\91981\\\\anaconda3\\\\envs\\\\nn\\\\python310.zip', 'C:\\\\Users\\\\91981\\\\anaconda3\\\\envs\\\\nn\\\\DLLs', 'C:\\\\Users\\\\91981\\\\anaconda3\\\\envs\\\\nn\\\\lib', 'C:\\\\Users\\\\91981\\\\anaconda3\\\\envs\\\\nn', '', 'C:\\\\Users\\\\91981\\\\anaconda3\\\\envs\\\\nn\\\\lib\\\\site-packages', 'C:\\\\Users\\\\91981\\\\anaconda3\\\\envs\\\\nn\\\\lib\\\\site-packages\\\\win32', 'C:\\\\Users\\\\91981\\\\anaconda3\\\\envs\\\\nn\\\\lib\\\\site-packages\\\\win32\\\\lib', 'C:\\\\Users\\\\91981\\\\anaconda3\\\\envs\\\\nn\\\\lib\\\\site-packages\\\\Pythonwin', 'D:\\tech_projects\\\\squirrel\\\\squirrel', 'D:\\\\tech_projects\\\\squirrel\\\\']\n"
     ]
    }
   ],
   "source": [
    "print(sys.path)"
   ]
  },
  {
   "cell_type": "code",
   "execution_count": 18,
   "id": "8dcef304",
   "metadata": {},
   "outputs": [],
   "source": [
    "import os"
   ]
  },
  {
   "cell_type": "code",
   "execution_count": 19,
   "id": "b556cdc3",
   "metadata": {},
   "outputs": [
    {
     "data": {
      "text/plain": [
       "['.git', '.gitignore', '.idea', 'README.md', 'squirrel', 'squirrelenv']"
      ]
     },
     "execution_count": 19,
     "metadata": {},
     "output_type": "execute_result"
    }
   ],
   "source": [
    "os.listdir(sys.path[-1])"
   ]
  },
  {
   "cell_type": "code",
   "execution_count": 151,
   "id": "d1f80414",
   "metadata": {},
   "outputs": [],
   "source": [
    "from squirrel.logistic.logistic import LogisticRegression"
   ]
  },
  {
   "cell_type": "code",
   "execution_count": 23,
   "id": "c10dbefe",
   "metadata": {},
   "outputs": [],
   "source": [
    "from sklearn import datasets"
   ]
  },
  {
   "cell_type": "code",
   "execution_count": 84,
   "id": "f213fdab",
   "metadata": {},
   "outputs": [],
   "source": [
    "x = datasets.make_classification(n_features=2, n_redundant=0)"
   ]
  },
  {
   "cell_type": "code",
   "execution_count": 85,
   "id": "3038d9f0",
   "metadata": {},
   "outputs": [],
   "source": [
    "x_train = x[0]\n",
    "y_train = x[1]"
   ]
  },
  {
   "cell_type": "code",
   "execution_count": 86,
   "id": "a381723c",
   "metadata": {},
   "outputs": [],
   "source": [
    "x_train = x_train.transpose()"
   ]
  },
  {
   "cell_type": "code",
   "execution_count": 87,
   "id": "f2b72966",
   "metadata": {},
   "outputs": [],
   "source": [
    "y_train = y_train.reshape(100, 1).transpose()"
   ]
  },
  {
   "cell_type": "code",
   "execution_count": 88,
   "id": "23d2cf39",
   "metadata": {},
   "outputs": [
    {
     "name": "stdout",
     "output_type": "stream",
     "text": [
      "(2, 100)\n",
      "(1, 100)\n"
     ]
    }
   ],
   "source": [
    "print(x_train.shape)\n",
    "print(y_train.shape)"
   ]
  },
  {
   "cell_type": "code",
   "execution_count": 54,
   "id": "65a5572f",
   "metadata": {},
   "outputs": [],
   "source": [
    "import matplotlib.pyplot as plt\n",
    "import pandas as pd\n",
    "%matplotlib inline"
   ]
  },
  {
   "cell_type": "code",
   "execution_count": 64,
   "id": "9b495a02",
   "metadata": {},
   "outputs": [
    {
     "data": {
      "text/plain": [
       "array([-1.45936302, -0.67157303, -1.36089735, -0.95852862, -1.04263912,\n",
       "       -1.22693561, -1.06225232, -1.40930153, -1.06825823, -0.6549312 ,\n",
       "        1.62906669,  0.71083821,  0.64314492,  0.95226811,  0.55020725,\n",
       "       -0.70478737,  0.87422837,  1.07132126, -1.15986436, -1.27122062,\n",
       "        1.53062244,  0.49824537, -0.88902852, -0.58932071, -1.3106296 ,\n",
       "       -0.79807377, -1.81179374,  1.36632418, -0.46260208,  2.42734202,\n",
       "        0.86742304,  1.45933284, -1.65344609, -1.10728191,  1.36943393,\n",
       "       -1.89599741, -1.32922085, -0.92386155,  0.24398693, -1.18223014,\n",
       "       -1.28872235,  0.85088592,  0.56633408,  0.75772405,  2.28240607,\n",
       "        2.24166465, -1.00780327,  1.20995652,  0.59756161, -0.50980052,\n",
       "        2.11571546,  0.04854446, -1.24774475,  1.07262971,  0.42638226,\n",
       "        0.71268953, -1.064786  , -0.66042598,  0.79671859,  0.49498833,\n",
       "       -0.8661317 ,  0.66227236, -1.73778036, -1.19261662, -0.90002348,\n",
       "       -1.26848912, -0.99281482, -0.77320284,  0.53095219,  0.45604444,\n",
       "        1.14792623,  0.51472755,  0.59209809,  0.01088248,  1.40706982,\n",
       "        0.92771665,  1.02010356, -0.88472753, -1.03928602,  0.76180802,\n",
       "       -0.75165376,  0.76458758,  1.31781686, -1.47352161,  0.86836697,\n",
       "       -1.93257179,  1.2154068 ,  2.22019179,  0.27499864,  0.65350383,\n",
       "       -1.00639606,  0.60880923,  1.76487677, -1.32013575, -1.57182297,\n",
       "        1.05853798,  0.70383476, -0.46546493, -0.81755812, -1.52479845])"
      ]
     },
     "execution_count": 64,
     "metadata": {},
     "output_type": "execute_result"
    }
   ],
   "source": [
    "x[0][:,0]"
   ]
  },
  {
   "cell_type": "code",
   "execution_count": 89,
   "id": "bbfcfb7c",
   "metadata": {},
   "outputs": [
    {
     "data": {
      "text/plain": [
       "<matplotlib.collections.PathCollection at 0x283dd1b9a80>"
      ]
     },
     "execution_count": 89,
     "metadata": {},
     "output_type": "execute_result"
    },
    {
     "data": {
      "image/png": "[encoded data removed]",
      "text/plain": [
       "<Figure size 432x288 with 1 Axes>"
      ]
     },
     "metadata": {
      "needs_background": "light"
     },
     "output_type": "display_data"
    }
   ],
   "source": [
    "plotdf = pd.DataFrame(data={'x_train_0':x[0][:,0], 'x_train_1':x[0][:,1],  'y_train':x[1]})\n",
    "plotdf_0 = plotdf[plotdf['y_train'] == 0]\n",
    "plotdf_1 = plotdf[plotdf['y_train'] == 1]\n",
    "plt.scatter(plotdf_0['x_train_0'], plotdf_0['x_train_1'], c = 'b')\n",
    "plt.scatter(plotdf_1['x_train_0'], plotdf_1['x_train_1'], c = 'r')"
   ]
  },
  {
   "cell_type": "code",
   "execution_count": 152,
   "id": "175c4479",
   "metadata": {},
   "outputs": [],
   "source": [
    "model = LogisticRegression(learning_rate=0.1, l1_ratio=0.3, num_iter=100, solver=None, reg_power = 0.01)"
   ]
  },
  {
   "cell_type": "code",
   "execution_count": 153,
   "id": "62626966",
   "metadata": {},
   "outputs": [],
   "source": [
    "model.fit(x_train, y_train)"
   ]
  },
  {
   "cell_type": "code",
   "execution_count": 154,
   "id": "e23a9b23",
   "metadata": {},
   "outputs": [
    {
     "data": {
      "text/plain": [
       "{'w': array([[ 1.61248964],\n",
       "        [-0.29866357]]),\n",
       " 'b': array([[0.00669933]])}"
      ]
     },
     "execution_count": 154,
     "metadata": {},
     "output_type": "execute_result"
    }
   ],
   "source": [
    "model.params"
   ]
  },
  {
   "cell_type": "code",
   "execution_count": 136,
   "id": "3854277a",
   "metadata": {},
   "outputs": [
    {
     "data": {
      "text/plain": [
       "(-4.0, 4.0)"
      ]
     },
     "execution_count": 136,
     "metadata": {},
     "output_type": "execute_result"
    },
    {
     "data": {
      "image/png": "[encoded data removed]",
      "text/plain": [
       "<Figure size 432x288 with 1 Axes>"
      ]
     },
     "metadata": {
      "needs_background": "light"
     },
     "output_type": "display_data"
    }
   ],
   "source": [
    "plotdf = pd.DataFrame(data={'x_train_0':x[0][:,0], 'x_train_1':x[0][:,1],  'y_train':x[1]})\n",
    "plotdf_0 = plotdf[plotdf['y_train'] == 0]\n",
    "plotdf_1 = plotdf[plotdf['y_train'] == 1]\n",
    "plt.scatter(plotdf_0['x_train_0'], plotdf_0['x_train_1'], c = 'b')\n",
    "plt.scatter(plotdf_1['x_train_0'], plotdf_1['x_train_1'], c = 'r')\n",
    "\n",
    "samples = np.arange(-4, 4, 0.01)\n",
    "y_samples = np.squeeze((-1*model.params['b'] - 1*(model.params['w'][0, 0])*samples)/model.params['w'][1, 0])\n",
    "plt.plot(samples, y_samples)\n",
    "plt.ylim(-4, 4)"
   ]
  },
  {
   "cell_type": "code",
   "execution_count": 53,
   "id": "edf0ddc8",
   "metadata": {},
   "outputs": [
    {
     "data": {
      "text/plain": [
       "array([[ 0,  0],\n",
       "       [ 0,  1],\n",
       "       [ 0,  2],\n",
       "       [ 0,  5],\n",
       "       [ 0,  7],\n",
       "       [ 0,  9],\n",
       "       [ 0, 11],\n",
       "       [ 0, 13],\n",
       "       [ 0, 14],\n",
       "       [ 0, 15],\n",
       "       [ 0, 16],\n",
       "       [ 0, 17],\n",
       "       [ 0, 20],\n",
       "       [ 0, 21],\n",
       "       [ 0, 24],\n",
       "       [ 0, 25],\n",
       "       [ 0, 26],\n",
       "       [ 0, 31],\n",
       "       [ 0, 32],\n",
       "       [ 0, 35],\n",
       "       [ 0, 36],\n",
       "       [ 0, 41],\n",
       "       [ 0, 42],\n",
       "       [ 0, 43],\n",
       "       [ 0, 47],\n",
       "       [ 0, 49],\n",
       "       [ 0, 50],\n",
       "       [ 0, 51],\n",
       "       [ 0, 53],\n",
       "       [ 0, 54],\n",
       "       [ 0, 55],\n",
       "       [ 0, 57],\n",
       "       [ 0, 58],\n",
       "       [ 0, 62],\n",
       "       [ 0, 68],\n",
       "       [ 0, 70],\n",
       "       [ 0, 74],\n",
       "       [ 0, 79],\n",
       "       [ 0, 80],\n",
       "       [ 0, 81],\n",
       "       [ 0, 83],\n",
       "       [ 0, 84],\n",
       "       [ 0, 85],\n",
       "       [ 0, 89],\n",
       "       [ 0, 93],\n",
       "       [ 0, 94],\n",
       "       [ 0, 95],\n",
       "       [ 0, 96],\n",
       "       [ 0, 97],\n",
       "       [ 0, 99]], dtype=int64)"
      ]
     },
     "execution_count": 53,
     "metadata": {},
     "output_type": "execute_result"
    }
   ],
   "source": [
    "np.argwhere(y_train == 0)"
   ]
  },
  {
   "cell_type": "code",
   "execution_count": 48,
   "id": "02b904bb",
   "metadata": {},
   "outputs": [
    {
     "data": {
      "text/plain": [
       "array([-2.72773502, -1.31663441, -3.72286552,  0.86558452,  0.93334305,\n",
       "       -2.63966565,  0.93185149, -1.0531451 ,  0.95421478, -0.09601843,\n",
       "       -0.03455323, -1.36058836,  1.78945493, -0.54782709, -0.50118511,\n",
       "       -2.49567983, -0.84015223, -1.70613927,  0.36337008,  0.29190099,\n",
       "       -0.6105849 , -0.65838419,  1.36833775,  1.96809259, -2.78861965,\n",
       "        0.73917603, -1.45456141,  0.1135452 ,  2.62448491, -0.62087344,\n",
       "        1.19254943, -0.21302779, -0.28903238,  0.78282792,  0.19269953,\n",
       "       -1.89434596, -0.58051515,  1.21562728,  1.97478918,  0.31149082,\n",
       "        0.26190997,  0.50610368,  1.17609212, -0.21144509, -0.88375584,\n",
       "       -0.79577635,  1.08878178,  0.73780857,  1.47264988, -1.59774712,\n",
       "       -0.70162796, -0.50303373,  0.41357942, -1.0138804 , -1.03964973,\n",
       "       -1.53437113,  0.73664563,  0.01175995, -0.70170117,  1.30968297,\n",
       "        1.19386252,  1.51186345, -1.69620409,  0.58703663,  1.1555366 ,\n",
       "        0.38474175,  1.01213466,  1.57800483, -2.16123473,  1.81151859,\n",
       "        0.50504343,  1.74494734,  1.45831599,  1.49361575, -1.0944232 ,\n",
       "        1.6647578 ,  1.04563872,  1.45745792,  0.95283408, -1.87700925,\n",
       "       -1.15469968, -0.7740051 ,  0.4714865 , -2.47429672, -0.4083062 ,\n",
       "       -0.26673534,  1.28365476, -0.93869304,  2.12958765, -1.90885114,\n",
       "        0.95908923,  1.6038978 ,  0.47648781, -2.20599816, -1.9252622 ,\n",
       "       -0.97161511, -2.0087658 ,  0.80314814,  1.35146874, -2.11901072])"
      ]
     },
     "execution_count": 48,
     "metadata": {},
     "output_type": "execute_result"
    }
   ],
   "source": [
    "x_train[1, :]"
   ]
  },
  {
   "cell_type": "code",
   "execution_count": 137,
   "id": "de25284c",
   "metadata": {},
   "outputs": [],
   "source": [
    "from sklearn.linear_model import LogisticRegression"
   ]
  },
  {
   "cell_type": "code",
   "execution_count": 146,
   "id": "0b147aec",
   "metadata": {},
   "outputs": [],
   "source": [
    "model2 = LogisticRegression()"
   ]
  },
  {
   "cell_type": "code",
   "execution_count": 147,
   "id": "7b623173",
   "metadata": {},
   "outputs": [
    {
     "name": "stderr",
     "output_type": "stream",
     "text": [
      "C:\\Users\\91981\\anaconda3\\envs\\nn\\lib\\site-packages\\sklearn\\utils\\validation.py:1111: DataConversionWarning: A column-vector y was passed when a 1d array was expected. Please change the shape of y to (n_samples, ), for example using ravel().\n",
      "  y = column_or_1d(y, warn=True)\n"
     ]
    },
    {
     "data": {
      "text/html": [
       "<style>#sk-container-id-2 {color: black;background-color: white;}#sk-container-id-2 pre{padding: 0;}#sk-container-id-2 div.sk-toggleable {background-color: white;}#sk-container-id-2 label.sk-toggleable__label {cursor: pointer;display: block;width: 100%;margin-bottom: 0;padding: 0.3em;box-sizing: border-box;text-align: center;}#sk-container-id-2 label.sk-toggleable__label-arrow:before {content: \"▸\";float: left;margin-right: 0.25em;color: #696969;}#sk-container-id-2 label.sk-toggleable__label-arrow:hover:before {color: black;}#sk-container-id-2 div.sk-estimator:hover label.sk-toggleable__label-arrow:before {color: black;}#sk-container-id-2 div.sk-toggleable__content {max-height: 0;max-width: 0;overflow: hidden;text-align: left;background-color: #f0f8ff;}#sk-container-id-2 div.sk-toggleable__content pre {margin: 0.2em;color: black;border-radius: 0.25em;background-color: #f0f8ff;}#sk-container-id-2 input.sk-toggleable__control:checked~div.sk-toggleable__content {max-height: 200px;max-width: 100%;overflow: auto;}#sk-container-id-2 input.sk-toggleable__control:checked~label.sk-toggleable__label-arrow:before {content: \"▾\";}#sk-container-id-2 div.sk-estimator input.sk-toggleable__control:checked~label.sk-toggleable__label {background-color: #d4ebff;}#sk-container-id-2 div.sk-label input.sk-toggleable__control:checked~label.sk-toggleable__label {background-color: #d4ebff;}#sk-container-id-2 input.sk-hidden--visually {border: 0;clip: rect(1px 1px 1px 1px);clip: rect(1px, 1px, 1px, 1px);height: 1px;margin: -1px;overflow: hidden;padding: 0;position: absolute;width: 1px;}#sk-container-id-2 div.sk-estimator {font-family: monospace;background-color: #f0f8ff;border: 1px dotted black;border-radius: 0.25em;box-sizing: border-box;margin-bottom: 0.5em;}#sk-container-id-2 div.sk-estimator:hover {background-color: #d4ebff;}#sk-container-id-2 div.sk-parallel-item::after {content: \"\";width: 100%;border-bottom: 1px solid gray;flex-grow: 1;}#sk-container-id-2 div.sk-label:hover label.sk-toggleable__label {background-color: #d4ebff;}#sk-container-id-2 div.sk-serial::before {content: \"\";position: absolute;border-left: 1px solid gray;box-sizing: border-box;top: 0;bottom: 0;left: 50%;z-index: 0;}#sk-container-id-2 div.sk-serial {display: flex;flex-direction: column;align-items: center;background-color: white;padding-right: 0.2em;padding-left: 0.2em;position: relative;}#sk-container-id-2 div.sk-item {position: relative;z-index: 1;}#sk-container-id-2 div.sk-parallel {display: flex;align-items: stretch;justify-content: center;background-color: white;position: relative;}#sk-container-id-2 div.sk-item::before, #sk-container-id-2 div.sk-parallel-item::before {content: \"\";position: absolute;border-left: 1px solid gray;box-sizing: border-box;top: 0;bottom: 0;left: 50%;z-index: -1;}#sk-container-id-2 div.sk-parallel-item {display: flex;flex-direction: column;z-index: 1;position: relative;background-color: white;}#sk-container-id-2 div.sk-parallel-item:first-child::after {align-self: flex-end;width: 50%;}#sk-container-id-2 div.sk-parallel-item:last-child::after {align-self: flex-start;width: 50%;}#sk-container-id-2 div.sk-parallel-item:only-child::after {width: 0;}#sk-container-id-2 div.sk-dashed-wrapped {border: 1px dashed gray;margin: 0 0.4em 0.5em 0.4em;box-sizing: border-box;padding-bottom: 0.4em;background-color: white;}#sk-container-id-2 div.sk-label label {font-family: monospace;font-weight: bold;display: inline-block;line-height: 1.2em;}#sk-container-id-2 div.sk-label-container {text-align: center;}#sk-container-id-2 div.sk-container {/* jupyter's `normalize.less` sets `[hidden] { display: none; }` but bootstrap.min.css set `[hidden] { display: none !important; }` so we also need the `!important` here to be able to override the default hidden behavior on the sphinx rendered scikit-learn.org. See: https://github.com/scikit-learn/scikit-learn/issues/21755 */display: inline-block !important;position: relative;}#sk-container-id-2 div.sk-text-repr-fallback {display: none;}</style><div id=\"sk-container-id-2\" class=\"sk-top-container\"><div class=\"sk-text-repr-fallback\"><pre>LogisticRegression()</pre><b>In a Jupyter environment, please rerun this cell to show the HTML representation or trust the notebook. <br />On GitHub, the HTML representation is unable to render, please try loading this page with nbviewer.org.</b></div><div class=\"sk-container\" hidden><div class=\"sk-item\"><div class=\"sk-estimator sk-toggleable\"><input class=\"sk-toggleable__control sk-hidden--visually\" id=\"sk-estimator-id-2\" type=\"checkbox\" checked><label for=\"sk-estimator-id-2\" class=\"sk-toggleable__label sk-toggleable__label-arrow\">LogisticRegression</label><div class=\"sk-toggleable__content\"><pre>LogisticRegression()</pre></div></div></div></div></div>"
      ],
      "text/plain": [
       "LogisticRegression()"
      ]
     },
     "execution_count": 147,
     "metadata": {},
     "output_type": "execute_result"
    }
   ],
   "source": [
    "model2.fit(x_train.transpose(), y_train.transpose())"
   ]
  },
  {
   "cell_type": "code",
   "execution_count": 158,
   "id": "80b863c5",
   "metadata": {},
   "outputs": [
    {
     "data": {
      "text/plain": [
       "(1, 2)"
      ]
     },
     "execution_count": 158,
     "metadata": {},
     "output_type": "execute_result"
    }
   ],
   "source": [
    "model2.coef_.shape"
   ]
  },
  {
   "cell_type": "code",
   "execution_count": 149,
   "id": "558fef8f",
   "metadata": {},
   "outputs": [
    {
     "data": {
      "text/plain": [
       "array([0.07255726])"
      ]
     },
     "execution_count": 149,
     "metadata": {},
     "output_type": "execute_result"
    }
   ],
   "source": [
    "model2.intercept_"
   ]
  },
  {
   "cell_type": "code",
   "execution_count": 159,
   "id": "0dc4ab96",
   "metadata": {},
   "outputs": [
    {
     "data": {
      "text/plain": [
       "(-4.0, 4.0)"
      ]
     },
     "execution_count": 159,
     "metadata": {},
     "output_type": "execute_result"
    },
    {
     "data": {
      "image/png": "[encoded data removed]",
      "text/plain": [
       "<Figure size 432x288 with 1 Axes>"
      ]
     },
     "metadata": {
      "needs_background": "light"
     },
     "output_type": "display_data"
    }
   ],
   "source": [
    "plotdf = pd.DataFrame(data={'x_train_0':x[0][:,0], 'x_train_1':x[0][:,1],  'y_train':x[1]})\n",
    "plotdf_0 = plotdf[plotdf['y_train'] == 0]\n",
    "plotdf_1 = plotdf[plotdf['y_train'] == 1]\n",
    "plt.scatter(plotdf_0['x_train_0'], plotdf_0['x_train_1'], c = 'b')\n",
    "plt.scatter(plotdf_1['x_train_0'], plotdf_1['x_train_1'], c = 'r')\n",
    "\n",
    "samples = np.arange(-4, 4, 0.01)\n",
    "y_samples = np.squeeze((-1*model.params['b'] - 1*(model.params['w'][0, 0])*samples)/model.params['w'][1, 0])\n",
    "plt.plot(samples, y_samples)\n",
    "y_samples_2 = -1*(model2.intercept_ + model2.coef_[0, 0]*samples)/model2.coef_[0, 1]\n",
    "plt.plot(samples, y_samples_2)\n",
    "plt.ylim(-4, 4)"
   ]
  }
 ],
 "metadata": {
  "kernelspec": {
   "display_name": "Python 3 (ipykernel)",
   "language": "python",
   "name": "python3"
  },
  "language_info": {
   "codemirror_mode": {
    "name": "ipython",
    "version": 3
   },
   "file_extension": ".py",
   "mimetype": "text/x-python",
   "name": "python",
   "nbconvert_exporter": "python",
   "pygments_lexer": "ipython3",
   "version": "3.10.4"
  }
 },
 "nbformat": 4,
 "nbformat_minor": 5
}
